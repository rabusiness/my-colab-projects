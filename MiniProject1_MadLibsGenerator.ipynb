{
  "nbformat": 4,
  "nbformat_minor": 0,
  "metadata": {
    "colab": {
      "provenance": [],
      "authorship_tag": "ABX9TyNozowBy6kpw93RWT2gHlo2",
      "include_colab_link": true
    },
    "kernelspec": {
      "name": "python3",
      "display_name": "Python 3"
    },
    "language_info": {
      "name": "python"
    }
  },
  "cells": [
    {
      "cell_type": "markdown",
      "metadata": {
        "id": "view-in-github",
        "colab_type": "text"
      },
      "source": [
        "<a href=\"https://colab.research.google.com/github/rabusiness/my-colab-projects/blob/main/MiniProject1_MadLibsGenerator.ipynb\" target=\"_parent\"><img src=\"https://colab.research.google.com/assets/colab-badge.svg\" alt=\"Open In Colab\"/></a>"
      ]
    },
    {
      "cell_type": "code",
      "execution_count": null,
      "metadata": {
        "colab": {
          "base_uri": "https://localhost:8080/"
        },
        "id": "XAtZy2C8U8cw",
        "outputId": "052cc674-c4f9-412a-993c-7f747245cc74"
      },
      "outputs": [
        {
          "output_type": "stream",
          "name": "stdout",
          "text": [
            "enter an adjective: creepy\n",
            "enter a verb: running\n",
            "enter a noun: computer\n",
            "enter an adjective: funny\n",
            "enter a verb: sing\n",
            "enter a noun: hands\n",
            "enter an adjective: annoying\n",
            "enter a verb: think\n",
            "enter a noun: brain\n",
            "\n",
            "  This weekend I want to visit a/an creepy park and do running.\n",
            "  \n",
            "  I also want to color my computer funny.\n",
            "  \n",
            "  Thanks for listening to my annoying story. \n",
            "  \n",
            "  This is my story; today I saw a creepy animal running\n",
            "  \n"
          ]
        }
      ],
      "source": [
        "def madlib():\n",
        "  #inputs\n",
        "  adjective1 = input(\"enter an adjective: \")\n",
        "  verb1 = input(\"enter a verb: \")\n",
        "  noun1 = input(\"enter a noun: \")\n",
        "  adjective2 = input(\"enter an adjective: \")\n",
        "  verb2 = input(\"enter a verb: \")\n",
        "  noun2 = input(\"enter a noun: \")\n",
        "  adjective3 = input(\"enter an adjective: \")\n",
        "  verb3 = input(\"enter a verb: \")\n",
        "  noun3 = input(\"enter a noun: \")\n",
        "\n",
        "  #<outputs>\n",
        "  adjective1\n",
        "  verb1\n",
        "  noun1\n",
        "  adjective2\n",
        "  verb2\n",
        "  noun2\n",
        "  adjective3\n",
        "  verb3\n",
        "  noun3\n",
        "\n",
        "  #define story\n",
        "  story = f\"\"\"\n",
        "  This weekend I want to visit a/an {adjective1} park and do {verb1}.\n",
        "\n",
        "  I also want to color my {noun1} {adjective2}.\n",
        "\n",
        "  Thanks for listening to my {adjective3} story.\n",
        "\n",
        "  This is my story; today I saw a {adjective1} animal {verb1}\n",
        "  \"\"\"\n",
        "  print(story)\n",
        "  #it will now print a funny story\n",
        "\n",
        "madlib()\n",
        "\n"
      ]
    },
    {
      "cell_type": "markdown",
      "source": [
        "#This is my simple Mad Libs game on python"
      ],
      "metadata": {
        "id": "Hmye_NbYU_2z"
      }
    }
  ]
}